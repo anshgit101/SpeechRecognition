{
 "cells": [
  {
   "cell_type": "markdown",
   "metadata": {},
   "source": [
    "# PRP Assignment 1\n",
    "## Viterbi Algorithm(Speech Recognition)"
   ]
  },
  {
   "cell_type": "code",
   "execution_count": 1,
   "metadata": {},
   "outputs": [
    {
     "name": "stdout",
     "output_type": "stream",
     "text": [
      "Populating the interactive namespace from numpy and matplotlib\n"
     ]
    }
   ],
   "source": [
    "%pylab inline"
   ]
  },
  {
   "cell_type": "code",
   "execution_count": 2,
   "metadata": {},
   "outputs": [],
   "source": [
    "def viterbi(observation, transition, emission, initialisation):\n",
    "    states = shape(A)[0]\n",
    "#     Number of states\n",
    "    steps = len(observation)\n",
    "    \n",
    "    prob_mat = np.zeros((states, steps))\n",
    "    back_map = np.zeros((states, steps-1))\n",
    "    prob_mat[:,0] = np.multiply(initialisation, emission[:,0])\n",
    "#     Nested loops for the calculation\n",
    "    for n in range(1,steps):\n",
    "        for i in range(states):\n",
    "            probs = np.multiply(transition[:, i], prob_mat[:, n-1])\n",
    "            prob_mat[i, n] = np.max(probs) * emission[i, observation[n]]\n",
    "            back_map[i,n-1] = np.argmax(probs)     \n",
    "#     Backtracking for the final optimized algorithm\n",
    "    optimized_path = np.zeros(steps)\n",
    "    optimized_path[-1] = np.argmax(prob_mat[:,-1])\n",
    "    for n in range(steps-2, 0, -1):\n",
    "        optimized_path[n] = back_map[int(optimized_path[n+1]), n]\n",
    "    return optimized_path\n",
    "        "
   ]
  },
  {
   "cell_type": "markdown",
   "metadata": {},
   "source": [
    "Initialising the values for a sample run where we are given the transition matrix(A), emission matrix(B), initial probabilities of the Markov model and observation sequences."
   ]
  },
  {
   "cell_type": "code",
   "execution_count": 3,
   "metadata": {},
   "outputs": [],
   "source": [
    "A = np.array([[0.8, 0.1, 0.1], \n",
    "              [0.2, 0.7, 0.1], \n",
    "              [0.1, 0.3, 0.6]])"
   ]
  },
  {
   "cell_type": "code",
   "execution_count": 4,
   "metadata": {},
   "outputs": [],
   "source": [
    "initialisation = np.array([0.6, 0.2, 0.2])"
   ]
  },
  {
   "cell_type": "code",
   "execution_count": 5,
   "metadata": {},
   "outputs": [],
   "source": [
    "B = np.array([[0.7, 0.0, 0.3], \n",
    "              [0.1, 0.9, 0.0], \n",
    "              [0.0, 0.2, 0.8]])"
   ]
  },
  {
   "cell_type": "code",
   "execution_count": 6,
   "metadata": {},
   "outputs": [],
   "source": [
    "observation = np.array([0,2,0,2,2,1])"
   ]
  },
  {
   "cell_type": "code",
   "execution_count": 7,
   "metadata": {},
   "outputs": [
    {
     "data": {
      "text/plain": [
       "array([0., 0., 0., 2., 2., 1.])"
      ]
     },
     "execution_count": 7,
     "metadata": {},
     "output_type": "execute_result"
    }
   ],
   "source": [
    "viterbi(observation, A, B, initialisation)"
   ]
  }
 ],
 "metadata": {
  "kernelspec": {
   "display_name": "Python 3",
   "language": "python",
   "name": "python3"
  },
  "language_info": {
   "codemirror_mode": {
    "name": "ipython",
    "version": 3
   },
   "file_extension": ".py",
   "mimetype": "text/x-python",
   "name": "python",
   "nbconvert_exporter": "python",
   "pygments_lexer": "ipython3",
   "version": "3.9.0"
  }
 },
 "nbformat": 4,
 "nbformat_minor": 4
}
